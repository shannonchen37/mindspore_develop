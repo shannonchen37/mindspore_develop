{
 "cells": [
  {
   "cell_type": "code",
   "execution_count": 1,
   "id": "38e1f997-95b4-4ce5-a0b4-57ad1740cc6a",
   "metadata": {},
   "outputs": [],
   "source": [
    "# 导入相关依赖库\n",
    "import os\n",
    "import numpy as np\n",
    "from matplotlib import pyplot as plt\n",
    "\n",
    "import mindspore as ms\n",
    "# context模块用于设置实验环境和实验设备\n",
    "import mindspore.context as context\n",
    "# dataset模块用于处理数据形成数据集\n",
    "import mindspore.dataset as ds\n",
    "# c_transforms模块用于转换数据类型\n",
    "import mindspore.dataset.transforms.c_transforms as C\n",
    "# vision.c_transforms模块用于转换图像，这是一个基于opencv的高级API\n",
    "import mindspore.dataset.vision.c_transforms as CV\n",
    "# 导入Accuracy作为评价指标\n",
    "from mindspore.nn.metrics import Accuracy\n",
    "# nn中有各种神经网络层如：Dense，ReLu\n",
    "from mindspore import nn\n",
    "# Model用于创建模型对象，完成网络搭建和编译，并用于训练和评估\n",
    "from mindspore.train import Model\n",
    "# LossMonitor可以在训练过程中返回LOSS值作为监控指标\n",
    "from mindspore.train.callback import LossMonitor\n",
    "# 设定运行模式为动态图模式，并且运行设备为昇腾芯片\n",
    "context.set_context(mode=context.GRAPH_MODE, device_target='Ascend')\n",
    "# change for more function | shannon | 2022.11.17\n",
    "# 用于记录训练时间\n",
    "import time\n",
    "# 用于进入训练看板\n",
    "from mindspore.train.callback import SummaryCollector"
   ]
  },
  {
   "cell_type": "code",
   "execution_count": 2,
   "id": "dd52acbe-7cfd-48c6-8cee-7379c6278324",
   "metadata": {},
   "outputs": [
    {
     "name": "stdout",
     "output_type": "stream",
     "text": [
      "训练数据集数量： 60000\n",
      "测试数据集数量： 10000\n",
      "<class 'dict'>\n",
      "图像长/宽/通道数： (28, 28, 1)\n",
      "一张图像的标签样式： 2\n"
     ]
    }
   ],
   "source": [
    "# MindSpore内置方法读取MNIST数据集\n",
    "ds_train = ds.MnistDataset(os.path.join(r'./MNIST', \"train\"))\n",
    "ds_test = ds.MnistDataset(os.path.join(r'./MNIST', \"test\")) \n",
    "\n",
    "print('训练数据集数量：',ds_train.get_dataset_size())\n",
    "print('测试数据集数量：',ds_test.get_dataset_size())\n",
    "# 该数据集可以通过create_dict_iterator()转换为迭代器形式，然后通过__next__()一个个输出样本\n",
    "image=ds_train.create_dict_iterator().__next__()\n",
    "print(type(image))\n",
    "print('图像长/宽/通道数：',image['image'].shape)\n",
    "# 一共10类，用0-9的数字表达类别。\n",
    "print('一张图像的标签样式：',image['label'])"
   ]
  },
  {
   "cell_type": "code",
   "execution_count": 3,
   "id": "449ad9c7-a33c-45af-8e89-779320778a01",
   "metadata": {},
   "outputs": [],
   "source": [
    "DATA_DIR_TRAIN = \"./MNIST/train\" # 训练集信息\n",
    "DATA_DIR_TEST = \"./MNIST/test\" # 测试集信息\n",
    "def create_dataset(training=True, batch_size=128, resize=(28, 28),rescale=1/255, shift=-0.5, buffer_size=64):\n",
    "    ds = ms.dataset.MnistDataset(DATA_DIR_TRAIN if training else DATA_DIR_TEST)\n",
    "    \n",
    "    # 定义改变形状、归一化和更改图片维度的操作。\n",
    "    # 改为（28,28）的形状\n",
    "    resize_op = CV.Resize(resize)\n",
    "    # rescale方法可以对数据集进行归一化和标准化操作，这里就是将像素值归一到0和1之间，shift参数可以让值域偏移至-0.5和0.5之间\n",
    "    rescale_op = CV.Rescale(rescale, shift)\n",
    "    # 由高度、宽度、深度改为深度、高度、宽度\n",
    "    hwc2chw_op = CV.HWC2CHW()\n",
    "    \n",
    "    # 利用map操作对原数据集进行调整\n",
    "    ds = ds.map(input_columns=\"image\", operations=[resize_op, rescale_op, hwc2chw_op])\n",
    "    ds = ds.map(input_columns=\"label\", operations=C.TypeCast(ms.int32))\n",
    "    # 设定洗牌缓冲区的大小，从一定程度上控制打乱操作的混乱程度\n",
    "    ds = ds.shuffle(buffer_size=buffer_size)\n",
    "    # 设定数据集的batch_size大小，并丢弃剩余的样本\n",
    "    ds = ds.batch(batch_size, drop_remainder=True)\n",
    "    \n",
    "    return ds"
   ]
  },
  {
   "cell_type": "code",
   "execution_count": 4,
   "id": "df7152c3-4ab9-4890-aeb4-b06c36fa1f64",
   "metadata": {},
   "outputs": [
    {
     "data": {
      "image/png": "[encoded data removed]",
      "text/plain": [
       "<Figure size 432x288 with 10 Axes>"
      ]
     },
     "metadata": {
      "needs_background": "light"
     },
     "output_type": "display_data"
    }
   ],
   "source": [
    "# 显示前10张图片以及对应标签,检查图片是否是正确的数据集\n",
    "dataset_show = create_dataset(training=False)\n",
    "data = dataset_show.create_dict_iterator().__next__()\n",
    "images = data['image'].asnumpy()\n",
    "labels = data['label'].asnumpy()\n",
    "\n",
    "for i in range(1,11):\n",
    "    plt.subplot(2, 5, i)\n",
    "    # 利用squeeze方法去掉多余的一个维度\n",
    "    plt.imshow(np.squeeze(images[i]))\n",
    "    plt.title('Number: %s' % labels[i])\n",
    "    plt.xticks([])\n",
    "plt.show()"
   ]
  },
  {
   "cell_type": "code",
   "execution_count": 5,
   "id": "7686ef77-d99e-4f52-a240-208ed1c40ecb",
   "metadata": {},
   "outputs": [],
   "source": [
    "# 利用定义类的方式生成网络，Mindspore中定义网络需要继承nn.cell。在init方法中定义该网络需要的神经网络层\n",
    "# 在construct方法中梳理神经网络层与层之间的关系。\n",
    "class ForwardNN(nn.Cell):      \n",
    "    def __init__(self):\n",
    "        super(ForwardNN, self).__init__()\n",
    "        self.flatten = nn.Flatten()\n",
    "        self.relu = nn.ReLU()\n",
    "        self.fc1 = nn.Dense(784, 512, activation='relu')\n",
    "        self.fc2 = nn.Dense(512, 256, activation='relu')\n",
    "        self.fc3 = nn.Dense(256, 128, activation='relu')\n",
    "        self.fc4 = nn.Dense(128, 64, activation='relu')\n",
    "        self.fc5 = nn.Dense(64, 32, activation='relu')\n",
    "        self.fc6 = nn.Dense(32, 10, activation='softmax')\n",
    "    \n",
    "    def construct(self, input_x):\n",
    "        output = self.flatten(input_x)\n",
    "        output = self.fc1(output)\n",
    "        output = self.fc2(output)\n",
    "        output = self.fc3(output)   \n",
    "        output = self.fc4(output)\n",
    "        output = self.fc5(output)\n",
    "        output = self.fc6(output)\n",
    "        return output"
   ]
  },
  {
   "cell_type": "code",
   "execution_count": 6,
   "id": "76a71434-b99b-4dc0-a904-0a6245e6e320",
   "metadata": {},
   "outputs": [],
   "source": [
    "lr = 0.001      # learning rate\n",
    "num_epoch = 20\n",
    "\n",
    "net = ForwardNN()\n",
    "# 定义loss函数，改函数不需要求导，可以给离散的标签值，且loss值为均值\n",
    "loss = nn.loss.SoftmaxCrossEntropyWithLogits( sparse=True, reduction='mean')\n",
    "# 定义准确率为评价指标，用于评价模型\n",
    "metrics={\"Accuracy\": Accuracy()}\n",
    "# 定义优化器为Adam优化器，并设定学习率\n",
    "opt = nn.Adam(net.trainable_params(), lr) "
   ]
  },
  {
   "cell_type": "code",
   "execution_count": 7,
   "id": "0234d735-b1de-4352-a2c1-e09b8318423c",
   "metadata": {},
   "outputs": [
    {
     "name": "stdout",
     "output_type": "stream",
     "text": [
      "============== Starting Training ==============\n",
      "epoch: 1 step: 468, loss is 2.2097229957580566\n",
      "epoch: 2 step: 468, loss is 1.7475111484527588\n",
      "epoch: 3 step: 468, loss is 1.554292917251587\n",
      "epoch: 4 step: 468, loss is 1.5093796253204346\n",
      "epoch: 5 step: 468, loss is 1.602241039276123\n",
      "epoch: 6 step: 468, loss is 1.5259665250778198\n",
      "epoch: 7 step: 468, loss is 1.5088175535202026\n",
      "epoch: 8 step: 468, loss is 1.5317308902740479\n",
      "epoch: 9 step: 468, loss is 1.524455189704895\n",
      "epoch: 10 step: 468, loss is 1.5241199731826782\n",
      "epoch: 11 step: 468, loss is 1.517235517501831\n",
      "epoch: 12 step: 468, loss is 1.520277500152588\n",
      "epoch: 13 step: 468, loss is 1.5487926006317139\n",
      "epoch: 14 step: 468, loss is 1.5347946882247925\n",
      "epoch: 15 step: 468, loss is 1.562770128250122\n",
      "epoch: 16 step: 468, loss is 1.499806523323059\n",
      "epoch: 17 step: 468, loss is 1.484597086906433\n",
      "epoch: 18 step: 468, loss is 1.4927257299423218\n",
      "epoch: 19 step: 468, loss is 1.4999632835388184\n",
      "epoch: 20 step: 468, loss is 1.5016047954559326\n",
      "============== Ending Training ==============\n",
      "running time: 1170.1729129999999s\n",
      "average epoch running time: 58.50864564999999s\n"
     ]
    }
   ],
   "source": [
    "# 生成验证集，验证机不需要训练，所以不需要repeat\n",
    "ds_eval = create_dataset(False, batch_size=32)\n",
    "# 模型编译过程，将定义好的网络、loss函数、评价指标、优化器编译\n",
    "model = Model(net, loss, opt, metrics)\n",
    "\n",
    "# 生成训练集\n",
    "# ds_train = create_dataset(True, batch_size=32)\n",
    "ds_train = create_dataset(True, batch_size=128)\n",
    "specified = {\"collect_metric\": True, \"histogram_regular\": \"^conv1.*|^conv2.*\", \"collect_graph\": True,\"collect_dataset_graph\": True}\n",
    "summary_collector = SummaryCollector(summary_dir=\"./summary/summary_05\", collect_specified_data=specified,collect_freq=1, keep_default_action=False, collect_tensor_freq=200)\n",
    "print(\"============== Starting Training ==============\")\n",
    "start = time.clock()\n",
    "# 训练模型，用loss作为监控指标，并利用昇腾芯片的数据下沉特性进行训练\n",
    "model.train(num_epoch, ds_train,callbacks=[LossMonitor(),summary_collector],dataset_sink_mode=True)\n",
    "end = time.clock()\n",
    "print(\"============== Ending Training ==============\")\n",
    "print(\"running time: {}s\".format(str(end-start)))\n",
    "print(\"average epoch running time: {}s\".format(str((end-start)/num_epoch)))"
   ]
  },
  {
   "cell_type": "code",
   "execution_count": 8,
   "id": "b9d0ab4a-d923-4973-a54c-033907e6be43",
   "metadata": {},
   "outputs": [
    {
     "name": "stdout",
     "output_type": "stream",
     "text": [
      "{'Accuracy': 0.9353966346153846}\n"
     ]
    }
   ],
   "source": [
    "# 使用测试集评估模型，打印总体准确率\n",
    "metrics_result=model.eval(ds_eval)\n",
    "print(metrics_result)"
   ]
  },
  {
   "cell_type": "code",
   "execution_count": 9,
   "id": "75ab1990-d707-496f-a0ec-70cd4193caf0",
   "metadata": {},
   "outputs": [
    {
     "data": {
      "text/plain": [
       "Launching MindInsight in Notebook..."
      ]
     },
     "metadata": {},
     "output_type": "display_data"
    },
    {
     "name": "stdout",
     "output_type": "stream",
     "text": [
      "[INFO] MI(3404:281472891983744,MainProcess):2022-11-23-09:45:55.289.208 [mindinsight/modelarts/notebook.py:180][NOTEBOOK] Reusing MindInsight on port 30000. (pid 1295, Use \"mindinsight stop --port 30000\" to stop it.) Web address: http://127.0.0.1:30000\n"
     ]
    },
    {
     "data": {
      "text/html": [
       "\n",
       "      <iframe id=\"mindinsight-frame-5a4298c93597630a\" width=\"100%\" height=\"800\" frameborder=\"0\">\n",
       "      </iframe>\n",
       "      <script>\n",
       "        (function() {\n",
       "          const frame = document.getElementById(\"mindinsight-frame-5a4298c93597630a\");\n",
       "          const url = new URL(\"/f6161b4a-7eb7-4725-bd3e-bd312ade57bb/proxy/30000/\", window.location);\n",
       "          const port = 0;\n",
       "          if (port) {\n",
       "            url.port = port;\n",
       "          }\n",
       "          frame.src = url;\n",
       "        })();\n",
       "      </script>\n",
       "    "
      ],
      "text/plain": [
       "<IPython.core.display.HTML object>"
      ]
     },
     "metadata": {},
     "output_type": "display_data"
    }
   ],
   "source": [
    "%reload_ext mindinsight\n",
    "%mindinsight --port 30000 --summary-base-dir ./summary/"
   ]
  }
 ],
 "metadata": {
  "kernelspec": {
   "display_name": "MindSpore",
   "language": "python",
   "name": "mindspore"
  },
  "language_info": {
   "codemirror_mode": {
    "name": "ipython",
    "version": 3
   },
   "file_extension": ".py",
   "mimetype": "text/x-python",
   "name": "python",
   "nbconvert_exporter": "python",
   "pygments_lexer": "ipython3",
   "version": "3.7.6"
  },
  "toc-showmarkdowntxt": false
 },
 "nbformat": 4,
 "nbformat_minor": 5
}
